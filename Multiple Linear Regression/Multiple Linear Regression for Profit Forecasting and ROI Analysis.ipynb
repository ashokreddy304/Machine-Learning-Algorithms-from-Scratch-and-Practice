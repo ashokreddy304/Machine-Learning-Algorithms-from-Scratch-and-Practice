{
 "cells": [
  {
   "cell_type": "code",
   "execution_count": 69,
   "id": "f7150a31-38e8-409e-bb15-5188b469b346",
   "metadata": {},
   "outputs": [],
   "source": [
    "import numpy as np\n",
    "import pandas as pd\n",
    "import matplotlib.pyplot as plt\n",
    "import seaborn as sns\n",
    "from sklearn.model_selection import train_test_split\n",
    "from sklearn.linear_model import LinearRegression\n",
    "from sklearn.metrics import mean_absolute_error,r2_score,mean_squared_error\n",
    "import statsmodels.api as sm\n",
    "import warnings\n",
    "warnings.filterwarnings('ignore')"
   ]
  },
  {
   "cell_type": "code",
   "execution_count": 87,
   "id": "e1d1fb87-745b-499a-ae21-3bff0d640c65",
   "metadata": {},
   "outputs": [],
   "source": [
    "df = pd.read_csv('data.csv')"
   ]
  },
  {
   "cell_type": "code",
   "execution_count": 88,
   "id": "e59195e6-26fd-43a5-86f1-993367178483",
   "metadata": {},
   "outputs": [
    {
     "data": {
      "text/html": [
       "<div>\n",
       "<style scoped>\n",
       "    .dataframe tbody tr th:only-of-type {\n",
       "        vertical-align: middle;\n",
       "    }\n",
       "\n",
       "    .dataframe tbody tr th {\n",
       "        vertical-align: top;\n",
       "    }\n",
       "\n",
       "    .dataframe thead th {\n",
       "        text-align: right;\n",
       "    }\n",
       "</style>\n",
       "<table border=\"1\" class=\"dataframe\">\n",
       "  <thead>\n",
       "    <tr style=\"text-align: right;\">\n",
       "      <th></th>\n",
       "      <th>Marketing</th>\n",
       "      <th>Technology</th>\n",
       "      <th>CustomerOffers</th>\n",
       "      <th>Operations</th>\n",
       "      <th>Profit</th>\n",
       "    </tr>\n",
       "  </thead>\n",
       "  <tbody>\n",
       "    <tr>\n",
       "      <th>0</th>\n",
       "      <td>1</td>\n",
       "      <td>3</td>\n",
       "      <td>1</td>\n",
       "      <td>2</td>\n",
       "      <td>22.436459</td>\n",
       "    </tr>\n",
       "    <tr>\n",
       "      <th>1</th>\n",
       "      <td>1</td>\n",
       "      <td>2</td>\n",
       "      <td>2</td>\n",
       "      <td>1</td>\n",
       "      <td>17.986771</td>\n",
       "    </tr>\n",
       "    <tr>\n",
       "      <th>2</th>\n",
       "      <td>1</td>\n",
       "      <td>3</td>\n",
       "      <td>0</td>\n",
       "      <td>2</td>\n",
       "      <td>17.710978</td>\n",
       "    </tr>\n",
       "    <tr>\n",
       "      <th>3</th>\n",
       "      <td>2</td>\n",
       "      <td>2</td>\n",
       "      <td>1</td>\n",
       "      <td>2</td>\n",
       "      <td>20.160497</td>\n",
       "    </tr>\n",
       "    <tr>\n",
       "      <th>4</th>\n",
       "      <td>3</td>\n",
       "      <td>1</td>\n",
       "      <td>1</td>\n",
       "      <td>1</td>\n",
       "      <td>21.173954</td>\n",
       "    </tr>\n",
       "  </tbody>\n",
       "</table>\n",
       "</div>"
      ],
      "text/plain": [
       "   Marketing  Technology  CustomerOffers  Operations     Profit\n",
       "0          1           3               1           2  22.436459\n",
       "1          1           2               2           1  17.986771\n",
       "2          1           3               0           2  17.710978\n",
       "3          2           2               1           2  20.160497\n",
       "4          3           1               1           1  21.173954"
      ]
     },
     "execution_count": 88,
     "metadata": {},
     "output_type": "execute_result"
    }
   ],
   "source": [
    "df.head()"
   ]
  },
  {
   "cell_type": "code",
   "execution_count": 89,
   "id": "8b4de447-722d-4804-b4bc-2a13c09fa19a",
   "metadata": {},
   "outputs": [
    {
     "data": {
      "text/plain": [
       "(1000, 5)"
      ]
     },
     "execution_count": 89,
     "metadata": {},
     "output_type": "execute_result"
    }
   ],
   "source": [
    "df.shape"
   ]
  },
  {
   "cell_type": "code",
   "execution_count": 90,
   "id": "9baf5efc-0e4a-4d26-82a6-1826476131ee",
   "metadata": {},
   "outputs": [
    {
     "name": "stdout",
     "output_type": "stream",
     "text": [
      "<class 'pandas.core.frame.DataFrame'>\n",
      "RangeIndex: 1000 entries, 0 to 999\n",
      "Data columns (total 5 columns):\n",
      " #   Column          Non-Null Count  Dtype  \n",
      "---  ------          --------------  -----  \n",
      " 0   Marketing       1000 non-null   int64  \n",
      " 1   Technology      1000 non-null   int64  \n",
      " 2   CustomerOffers  1000 non-null   int64  \n",
      " 3   Operations      1000 non-null   int64  \n",
      " 4   Profit          1000 non-null   float64\n",
      "dtypes: float64(1), int64(4)\n",
      "memory usage: 39.2 KB\n"
     ]
    }
   ],
   "source": [
    "df.info()"
   ]
  },
  {
   "cell_type": "code",
   "execution_count": 91,
   "id": "7223f90e-177c-40d5-84e0-bd4e09839c37",
   "metadata": {},
   "outputs": [],
   "source": [
    "df.columns = df.columns.str.lower()"
   ]
  },
  {
   "cell_type": "code",
   "execution_count": 92,
   "id": "0ae116a1-03e9-4c73-8543-2725bfc0d32c",
   "metadata": {},
   "outputs": [
    {
     "data": {
      "text/plain": [
       "Index(['marketing', 'technology', 'customeroffers', 'operations', 'profit'], dtype='object')"
      ]
     },
     "execution_count": 92,
     "metadata": {},
     "output_type": "execute_result"
    }
   ],
   "source": [
    "df.columns"
   ]
  },
  {
   "cell_type": "code",
   "execution_count": 93,
   "id": "488af124-a2db-41f3-8719-f3c0d3c36541",
   "metadata": {},
   "outputs": [],
   "source": [
    "X = df.drop(columns=['profit'])\n",
    "y = df['profit']"
   ]
  },
  {
   "cell_type": "code",
   "execution_count": 94,
   "id": "8c9dddd4-39a0-44c3-8f71-6344e4714b2b",
   "metadata": {},
   "outputs": [],
   "source": [
    "X_train,X_test,y_train,y_test = train_test_split(X,y,test_size=0.2,random_state=42)"
   ]
  },
  {
   "cell_type": "code",
   "execution_count": 95,
   "id": "f913c100-dfcd-4a0a-bb67-71020d6a3957",
   "metadata": {},
   "outputs": [
    {
     "data": {
      "text/html": [
       "<style>#sk-container-id-3 {\n",
       "  /* Definition of color scheme common for light and dark mode */\n",
       "  --sklearn-color-text: #000;\n",
       "  --sklearn-color-text-muted: #666;\n",
       "  --sklearn-color-line: gray;\n",
       "  /* Definition of color scheme for unfitted estimators */\n",
       "  --sklearn-color-unfitted-level-0: #fff5e6;\n",
       "  --sklearn-color-unfitted-level-1: #f6e4d2;\n",
       "  --sklearn-color-unfitted-level-2: #ffe0b3;\n",
       "  --sklearn-color-unfitted-level-3: chocolate;\n",
       "  /* Definition of color scheme for fitted estimators */\n",
       "  --sklearn-color-fitted-level-0: #f0f8ff;\n",
       "  --sklearn-color-fitted-level-1: #d4ebff;\n",
       "  --sklearn-color-fitted-level-2: #b3dbfd;\n",
       "  --sklearn-color-fitted-level-3: cornflowerblue;\n",
       "\n",
       "  /* Specific color for light theme */\n",
       "  --sklearn-color-text-on-default-background: var(--sg-text-color, var(--theme-code-foreground, var(--jp-content-font-color1, black)));\n",
       "  --sklearn-color-background: var(--sg-background-color, var(--theme-background, var(--jp-layout-color0, white)));\n",
       "  --sklearn-color-border-box: var(--sg-text-color, var(--theme-code-foreground, var(--jp-content-font-color1, black)));\n",
       "  --sklearn-color-icon: #696969;\n",
       "\n",
       "  @media (prefers-color-scheme: dark) {\n",
       "    /* Redefinition of color scheme for dark theme */\n",
       "    --sklearn-color-text-on-default-background: var(--sg-text-color, var(--theme-code-foreground, var(--jp-content-font-color1, white)));\n",
       "    --sklearn-color-background: var(--sg-background-color, var(--theme-background, var(--jp-layout-color0, #111)));\n",
       "    --sklearn-color-border-box: var(--sg-text-color, var(--theme-code-foreground, var(--jp-content-font-color1, white)));\n",
       "    --sklearn-color-icon: #878787;\n",
       "  }\n",
       "}\n",
       "\n",
       "#sk-container-id-3 {\n",
       "  color: var(--sklearn-color-text);\n",
       "}\n",
       "\n",
       "#sk-container-id-3 pre {\n",
       "  padding: 0;\n",
       "}\n",
       "\n",
       "#sk-container-id-3 input.sk-hidden--visually {\n",
       "  border: 0;\n",
       "  clip: rect(1px 1px 1px 1px);\n",
       "  clip: rect(1px, 1px, 1px, 1px);\n",
       "  height: 1px;\n",
       "  margin: -1px;\n",
       "  overflow: hidden;\n",
       "  padding: 0;\n",
       "  position: absolute;\n",
       "  width: 1px;\n",
       "}\n",
       "\n",
       "#sk-container-id-3 div.sk-dashed-wrapped {\n",
       "  border: 1px dashed var(--sklearn-color-line);\n",
       "  margin: 0 0.4em 0.5em 0.4em;\n",
       "  box-sizing: border-box;\n",
       "  padding-bottom: 0.4em;\n",
       "  background-color: var(--sklearn-color-background);\n",
       "}\n",
       "\n",
       "#sk-container-id-3 div.sk-container {\n",
       "  /* jupyter's `normalize.less` sets `[hidden] { display: none; }`\n",
       "     but bootstrap.min.css set `[hidden] { display: none !important; }`\n",
       "     so we also need the `!important` here to be able to override the\n",
       "     default hidden behavior on the sphinx rendered scikit-learn.org.\n",
       "     See: https://github.com/scikit-learn/scikit-learn/issues/21755 */\n",
       "  display: inline-block !important;\n",
       "  position: relative;\n",
       "}\n",
       "\n",
       "#sk-container-id-3 div.sk-text-repr-fallback {\n",
       "  display: none;\n",
       "}\n",
       "\n",
       "div.sk-parallel-item,\n",
       "div.sk-serial,\n",
       "div.sk-item {\n",
       "  /* draw centered vertical line to link estimators */\n",
       "  background-image: linear-gradient(var(--sklearn-color-text-on-default-background), var(--sklearn-color-text-on-default-background));\n",
       "  background-size: 2px 100%;\n",
       "  background-repeat: no-repeat;\n",
       "  background-position: center center;\n",
       "}\n",
       "\n",
       "/* Parallel-specific style estimator block */\n",
       "\n",
       "#sk-container-id-3 div.sk-parallel-item::after {\n",
       "  content: \"\";\n",
       "  width: 100%;\n",
       "  border-bottom: 2px solid var(--sklearn-color-text-on-default-background);\n",
       "  flex-grow: 1;\n",
       "}\n",
       "\n",
       "#sk-container-id-3 div.sk-parallel {\n",
       "  display: flex;\n",
       "  align-items: stretch;\n",
       "  justify-content: center;\n",
       "  background-color: var(--sklearn-color-background);\n",
       "  position: relative;\n",
       "}\n",
       "\n",
       "#sk-container-id-3 div.sk-parallel-item {\n",
       "  display: flex;\n",
       "  flex-direction: column;\n",
       "}\n",
       "\n",
       "#sk-container-id-3 div.sk-parallel-item:first-child::after {\n",
       "  align-self: flex-end;\n",
       "  width: 50%;\n",
       "}\n",
       "\n",
       "#sk-container-id-3 div.sk-parallel-item:last-child::after {\n",
       "  align-self: flex-start;\n",
       "  width: 50%;\n",
       "}\n",
       "\n",
       "#sk-container-id-3 div.sk-parallel-item:only-child::after {\n",
       "  width: 0;\n",
       "}\n",
       "\n",
       "/* Serial-specific style estimator block */\n",
       "\n",
       "#sk-container-id-3 div.sk-serial {\n",
       "  display: flex;\n",
       "  flex-direction: column;\n",
       "  align-items: center;\n",
       "  background-color: var(--sklearn-color-background);\n",
       "  padding-right: 1em;\n",
       "  padding-left: 1em;\n",
       "}\n",
       "\n",
       "\n",
       "/* Toggleable style: style used for estimator/Pipeline/ColumnTransformer box that is\n",
       "clickable and can be expanded/collapsed.\n",
       "- Pipeline and ColumnTransformer use this feature and define the default style\n",
       "- Estimators will overwrite some part of the style using the `sk-estimator` class\n",
       "*/\n",
       "\n",
       "/* Pipeline and ColumnTransformer style (default) */\n",
       "\n",
       "#sk-container-id-3 div.sk-toggleable {\n",
       "  /* Default theme specific background. It is overwritten whether we have a\n",
       "  specific estimator or a Pipeline/ColumnTransformer */\n",
       "  background-color: var(--sklearn-color-background);\n",
       "}\n",
       "\n",
       "/* Toggleable label */\n",
       "#sk-container-id-3 label.sk-toggleable__label {\n",
       "  cursor: pointer;\n",
       "  display: flex;\n",
       "  width: 100%;\n",
       "  margin-bottom: 0;\n",
       "  padding: 0.5em;\n",
       "  box-sizing: border-box;\n",
       "  text-align: center;\n",
       "  align-items: start;\n",
       "  justify-content: space-between;\n",
       "  gap: 0.5em;\n",
       "}\n",
       "\n",
       "#sk-container-id-3 label.sk-toggleable__label .caption {\n",
       "  font-size: 0.6rem;\n",
       "  font-weight: lighter;\n",
       "  color: var(--sklearn-color-text-muted);\n",
       "}\n",
       "\n",
       "#sk-container-id-3 label.sk-toggleable__label-arrow:before {\n",
       "  /* Arrow on the left of the label */\n",
       "  content: \"▸\";\n",
       "  float: left;\n",
       "  margin-right: 0.25em;\n",
       "  color: var(--sklearn-color-icon);\n",
       "}\n",
       "\n",
       "#sk-container-id-3 label.sk-toggleable__label-arrow:hover:before {\n",
       "  color: var(--sklearn-color-text);\n",
       "}\n",
       "\n",
       "/* Toggleable content - dropdown */\n",
       "\n",
       "#sk-container-id-3 div.sk-toggleable__content {\n",
       "  max-height: 0;\n",
       "  max-width: 0;\n",
       "  overflow: hidden;\n",
       "  text-align: left;\n",
       "  /* unfitted */\n",
       "  background-color: var(--sklearn-color-unfitted-level-0);\n",
       "}\n",
       "\n",
       "#sk-container-id-3 div.sk-toggleable__content.fitted {\n",
       "  /* fitted */\n",
       "  background-color: var(--sklearn-color-fitted-level-0);\n",
       "}\n",
       "\n",
       "#sk-container-id-3 div.sk-toggleable__content pre {\n",
       "  margin: 0.2em;\n",
       "  border-radius: 0.25em;\n",
       "  color: var(--sklearn-color-text);\n",
       "  /* unfitted */\n",
       "  background-color: var(--sklearn-color-unfitted-level-0);\n",
       "}\n",
       "\n",
       "#sk-container-id-3 div.sk-toggleable__content.fitted pre {\n",
       "  /* unfitted */\n",
       "  background-color: var(--sklearn-color-fitted-level-0);\n",
       "}\n",
       "\n",
       "#sk-container-id-3 input.sk-toggleable__control:checked~div.sk-toggleable__content {\n",
       "  /* Expand drop-down */\n",
       "  max-height: 200px;\n",
       "  max-width: 100%;\n",
       "  overflow: auto;\n",
       "}\n",
       "\n",
       "#sk-container-id-3 input.sk-toggleable__control:checked~label.sk-toggleable__label-arrow:before {\n",
       "  content: \"▾\";\n",
       "}\n",
       "\n",
       "/* Pipeline/ColumnTransformer-specific style */\n",
       "\n",
       "#sk-container-id-3 div.sk-label input.sk-toggleable__control:checked~label.sk-toggleable__label {\n",
       "  color: var(--sklearn-color-text);\n",
       "  background-color: var(--sklearn-color-unfitted-level-2);\n",
       "}\n",
       "\n",
       "#sk-container-id-3 div.sk-label.fitted input.sk-toggleable__control:checked~label.sk-toggleable__label {\n",
       "  background-color: var(--sklearn-color-fitted-level-2);\n",
       "}\n",
       "\n",
       "/* Estimator-specific style */\n",
       "\n",
       "/* Colorize estimator box */\n",
       "#sk-container-id-3 div.sk-estimator input.sk-toggleable__control:checked~label.sk-toggleable__label {\n",
       "  /* unfitted */\n",
       "  background-color: var(--sklearn-color-unfitted-level-2);\n",
       "}\n",
       "\n",
       "#sk-container-id-3 div.sk-estimator.fitted input.sk-toggleable__control:checked~label.sk-toggleable__label {\n",
       "  /* fitted */\n",
       "  background-color: var(--sklearn-color-fitted-level-2);\n",
       "}\n",
       "\n",
       "#sk-container-id-3 div.sk-label label.sk-toggleable__label,\n",
       "#sk-container-id-3 div.sk-label label {\n",
       "  /* The background is the default theme color */\n",
       "  color: var(--sklearn-color-text-on-default-background);\n",
       "}\n",
       "\n",
       "/* On hover, darken the color of the background */\n",
       "#sk-container-id-3 div.sk-label:hover label.sk-toggleable__label {\n",
       "  color: var(--sklearn-color-text);\n",
       "  background-color: var(--sklearn-color-unfitted-level-2);\n",
       "}\n",
       "\n",
       "/* Label box, darken color on hover, fitted */\n",
       "#sk-container-id-3 div.sk-label.fitted:hover label.sk-toggleable__label.fitted {\n",
       "  color: var(--sklearn-color-text);\n",
       "  background-color: var(--sklearn-color-fitted-level-2);\n",
       "}\n",
       "\n",
       "/* Estimator label */\n",
       "\n",
       "#sk-container-id-3 div.sk-label label {\n",
       "  font-family: monospace;\n",
       "  font-weight: bold;\n",
       "  display: inline-block;\n",
       "  line-height: 1.2em;\n",
       "}\n",
       "\n",
       "#sk-container-id-3 div.sk-label-container {\n",
       "  text-align: center;\n",
       "}\n",
       "\n",
       "/* Estimator-specific */\n",
       "#sk-container-id-3 div.sk-estimator {\n",
       "  font-family: monospace;\n",
       "  border: 1px dotted var(--sklearn-color-border-box);\n",
       "  border-radius: 0.25em;\n",
       "  box-sizing: border-box;\n",
       "  margin-bottom: 0.5em;\n",
       "  /* unfitted */\n",
       "  background-color: var(--sklearn-color-unfitted-level-0);\n",
       "}\n",
       "\n",
       "#sk-container-id-3 div.sk-estimator.fitted {\n",
       "  /* fitted */\n",
       "  background-color: var(--sklearn-color-fitted-level-0);\n",
       "}\n",
       "\n",
       "/* on hover */\n",
       "#sk-container-id-3 div.sk-estimator:hover {\n",
       "  /* unfitted */\n",
       "  background-color: var(--sklearn-color-unfitted-level-2);\n",
       "}\n",
       "\n",
       "#sk-container-id-3 div.sk-estimator.fitted:hover {\n",
       "  /* fitted */\n",
       "  background-color: var(--sklearn-color-fitted-level-2);\n",
       "}\n",
       "\n",
       "/* Specification for estimator info (e.g. \"i\" and \"?\") */\n",
       "\n",
       "/* Common style for \"i\" and \"?\" */\n",
       "\n",
       ".sk-estimator-doc-link,\n",
       "a:link.sk-estimator-doc-link,\n",
       "a:visited.sk-estimator-doc-link {\n",
       "  float: right;\n",
       "  font-size: smaller;\n",
       "  line-height: 1em;\n",
       "  font-family: monospace;\n",
       "  background-color: var(--sklearn-color-background);\n",
       "  border-radius: 1em;\n",
       "  height: 1em;\n",
       "  width: 1em;\n",
       "  text-decoration: none !important;\n",
       "  margin-left: 0.5em;\n",
       "  text-align: center;\n",
       "  /* unfitted */\n",
       "  border: var(--sklearn-color-unfitted-level-1) 1pt solid;\n",
       "  color: var(--sklearn-color-unfitted-level-1);\n",
       "}\n",
       "\n",
       ".sk-estimator-doc-link.fitted,\n",
       "a:link.sk-estimator-doc-link.fitted,\n",
       "a:visited.sk-estimator-doc-link.fitted {\n",
       "  /* fitted */\n",
       "  border: var(--sklearn-color-fitted-level-1) 1pt solid;\n",
       "  color: var(--sklearn-color-fitted-level-1);\n",
       "}\n",
       "\n",
       "/* On hover */\n",
       "div.sk-estimator:hover .sk-estimator-doc-link:hover,\n",
       ".sk-estimator-doc-link:hover,\n",
       "div.sk-label-container:hover .sk-estimator-doc-link:hover,\n",
       ".sk-estimator-doc-link:hover {\n",
       "  /* unfitted */\n",
       "  background-color: var(--sklearn-color-unfitted-level-3);\n",
       "  color: var(--sklearn-color-background);\n",
       "  text-decoration: none;\n",
       "}\n",
       "\n",
       "div.sk-estimator.fitted:hover .sk-estimator-doc-link.fitted:hover,\n",
       ".sk-estimator-doc-link.fitted:hover,\n",
       "div.sk-label-container:hover .sk-estimator-doc-link.fitted:hover,\n",
       ".sk-estimator-doc-link.fitted:hover {\n",
       "  /* fitted */\n",
       "  background-color: var(--sklearn-color-fitted-level-3);\n",
       "  color: var(--sklearn-color-background);\n",
       "  text-decoration: none;\n",
       "}\n",
       "\n",
       "/* Span, style for the box shown on hovering the info icon */\n",
       ".sk-estimator-doc-link span {\n",
       "  display: none;\n",
       "  z-index: 9999;\n",
       "  position: relative;\n",
       "  font-weight: normal;\n",
       "  right: .2ex;\n",
       "  padding: .5ex;\n",
       "  margin: .5ex;\n",
       "  width: min-content;\n",
       "  min-width: 20ex;\n",
       "  max-width: 50ex;\n",
       "  color: var(--sklearn-color-text);\n",
       "  box-shadow: 2pt 2pt 4pt #999;\n",
       "  /* unfitted */\n",
       "  background: var(--sklearn-color-unfitted-level-0);\n",
       "  border: .5pt solid var(--sklearn-color-unfitted-level-3);\n",
       "}\n",
       "\n",
       ".sk-estimator-doc-link.fitted span {\n",
       "  /* fitted */\n",
       "  background: var(--sklearn-color-fitted-level-0);\n",
       "  border: var(--sklearn-color-fitted-level-3);\n",
       "}\n",
       "\n",
       ".sk-estimator-doc-link:hover span {\n",
       "  display: block;\n",
       "}\n",
       "\n",
       "/* \"?\"-specific style due to the `<a>` HTML tag */\n",
       "\n",
       "#sk-container-id-3 a.estimator_doc_link {\n",
       "  float: right;\n",
       "  font-size: 1rem;\n",
       "  line-height: 1em;\n",
       "  font-family: monospace;\n",
       "  background-color: var(--sklearn-color-background);\n",
       "  border-radius: 1rem;\n",
       "  height: 1rem;\n",
       "  width: 1rem;\n",
       "  text-decoration: none;\n",
       "  /* unfitted */\n",
       "  color: var(--sklearn-color-unfitted-level-1);\n",
       "  border: var(--sklearn-color-unfitted-level-1) 1pt solid;\n",
       "}\n",
       "\n",
       "#sk-container-id-3 a.estimator_doc_link.fitted {\n",
       "  /* fitted */\n",
       "  border: var(--sklearn-color-fitted-level-1) 1pt solid;\n",
       "  color: var(--sklearn-color-fitted-level-1);\n",
       "}\n",
       "\n",
       "/* On hover */\n",
       "#sk-container-id-3 a.estimator_doc_link:hover {\n",
       "  /* unfitted */\n",
       "  background-color: var(--sklearn-color-unfitted-level-3);\n",
       "  color: var(--sklearn-color-background);\n",
       "  text-decoration: none;\n",
       "}\n",
       "\n",
       "#sk-container-id-3 a.estimator_doc_link.fitted:hover {\n",
       "  /* fitted */\n",
       "  background-color: var(--sklearn-color-fitted-level-3);\n",
       "}\n",
       "</style><div id=\"sk-container-id-3\" class=\"sk-top-container\"><div class=\"sk-text-repr-fallback\"><pre>LinearRegression()</pre><b>In a Jupyter environment, please rerun this cell to show the HTML representation or trust the notebook. <br />On GitHub, the HTML representation is unable to render, please try loading this page with nbviewer.org.</b></div><div class=\"sk-container\" hidden><div class=\"sk-item\"><div class=\"sk-estimator fitted sk-toggleable\"><input class=\"sk-toggleable__control sk-hidden--visually\" id=\"sk-estimator-id-3\" type=\"checkbox\" checked><label for=\"sk-estimator-id-3\" class=\"sk-toggleable__label fitted sk-toggleable__label-arrow\"><div><div>LinearRegression</div></div><div><a class=\"sk-estimator-doc-link fitted\" rel=\"noreferrer\" target=\"_blank\" href=\"https://scikit-learn.org/1.6/modules/generated/sklearn.linear_model.LinearRegression.html\">?<span>Documentation for LinearRegression</span></a><span class=\"sk-estimator-doc-link fitted\">i<span>Fitted</span></span></div></label><div class=\"sk-toggleable__content fitted\"><pre>LinearRegression()</pre></div> </div></div></div></div>"
      ],
      "text/plain": [
       "LinearRegression()"
      ]
     },
     "execution_count": 95,
     "metadata": {},
     "output_type": "execute_result"
    }
   ],
   "source": [
    "mlr = LinearRegression()\n",
    "mlr.fit(X_train,y_train)"
   ]
  },
  {
   "cell_type": "code",
   "execution_count": 96,
   "id": "67ddce77-9a1f-45dd-a88f-c69a7b98796f",
   "metadata": {},
   "outputs": [
    {
     "data": {
      "text/plain": [
       "np.float64(9.547886879179439)"
      ]
     },
     "execution_count": 96,
     "metadata": {},
     "output_type": "execute_result"
    }
   ],
   "source": [
    "intercept = mlr.intercept_\n",
    "intercept"
   ]
  },
  {
   "cell_type": "code",
   "execution_count": 97,
   "id": "d67c61d5-c93a-4e09-8b29-2a65acc7d504",
   "metadata": {},
   "outputs": [
    {
     "data": {
      "text/plain": [
       "array([2.50689884, 1.91449834, 1.13827509, 0.96035177])"
      ]
     },
     "execution_count": 97,
     "metadata": {},
     "output_type": "execute_result"
    }
   ],
   "source": [
    "cof = mlr.coef_\n",
    "cof"
   ]
  },
  {
   "cell_type": "markdown",
   "id": "821dcc16-41a5-4c7a-b99f-708b6f7be201",
   "metadata": {},
   "source": [
    "### Multiple Linear Regression (MLR) Equation – Profit Prediction\n",
    "\n",
    "The fitted regression model for predicting profit is:\n",
    "\n",
    "\\[\n",
    "Profit = 9.56 + 2.50689884 * (Marketing) + 1.91449834 * (Technology) + 1.13827509 * (CustomerOffers) + 0.96035177 * (Operations)\n",
    "\\]\n",
    "\n",
    "**Interpretation of coefficients:**\n",
    "- **Intercept (9.56):** This is the baseline profit (in lakhs) when all other factors are set to zero.  \n",
    "- **Marketing (2.47):** For every ₹1 lakh increase in marketing spend, profit increases by about ₹2.47 lakhs, holding all other factors constant.  \n",
    "- **Technology (1.80):** For every ₹1 lakh increase in technology investment, profit increases by about ₹1.80 lakhs, keeping other factors constant.  \n",
    "- **CustomerOffers (1.23):** For every ₹1 lakh increase in customer offers or discounts, profit increases by about ₹1.23 lakhs.  \n",
    "- **Operations (1.07):** For every ₹1 lakh increase in operations cost, profit increases by about ₹1.07 lakhs.  \n",
    "\n",
    "**Key insight:**  \n",
    "Marketing and Technology have the strongest influence on profit in this model, while Customer Offers and Operations also contribute positively but with smaller effects.\n"
   ]
  },
  {
   "cell_type": "code",
   "execution_count": 34,
   "id": "5d2a9cca-4d0f-4654-968b-f6c0be77e975",
   "metadata": {},
   "outputs": [],
   "source": [
    "y_pred = mlr.predict(X_test)"
   ]
  },
  {
   "cell_type": "code",
   "execution_count": 35,
   "id": "90face2c-2aaa-4291-83f1-3a402ac4c9cc",
   "metadata": {},
   "outputs": [],
   "source": [
    "mae = mean_absolute_error(y_test,y_pred)\n",
    "rmse = np.sqrt(mean_squared_error(y_test,y_pred))\n",
    "r2 = r2_score(y_test,y_pred)"
   ]
  },
  {
   "cell_type": "code",
   "execution_count": 36,
   "id": "11e00328-e552-4037-b7f0-4583f60f4425",
   "metadata": {},
   "outputs": [
    {
     "data": {
      "text/plain": [
       "(1.49193608549013, np.float64(1.8583595178024663), 0.7502553148636956)"
      ]
     },
     "execution_count": 36,
     "metadata": {},
     "output_type": "execute_result"
    }
   ],
   "source": [
    "mae,rmse,r2"
   ]
  },
  {
   "cell_type": "code",
   "execution_count": 98,
   "id": "c14a012f-a2e2-459d-88fa-687cc5f92fde",
   "metadata": {},
   "outputs": [],
   "source": [
    "#Profit = 9.56 + 2.50689884 * (Marketing) + 1.91449834 * (Technology) + 1.13827509 * (CustomerOffers) + 0.96035177 * (Operations)\n",
    "Profit = 9.54 + 2.50689884 * (6) + 1.91449834 * (2) + 1.13827509 * (1) + 0.96035177 * (1)"
   ]
  },
  {
   "cell_type": "code",
   "execution_count": 99,
   "id": "06de9059-0ba1-4ba7-aa65-963b53063df5",
   "metadata": {},
   "outputs": [
    {
     "data": {
      "text/plain": [
       "30.529016579999997"
      ]
     },
     "execution_count": 99,
     "metadata": {},
     "output_type": "execute_result"
    }
   ],
   "source": [
    "Profit"
   ]
  },
  {
   "cell_type": "markdown",
   "id": "615199f8-5305-4c2d-ae3a-c2a470a451cb",
   "metadata": {},
   "source": [
    "### 🔹 Business Meaning\n",
    "\n",
    "This regression equation highlights how different investments impact profit:\n",
    "\n",
    "- **Marketing** gives the best return on money, showing the highest ROI.  \n",
    "- **Technology** also has strong ROI, making it the second most important area of investment.  \n",
    "- **Customer Offers** contribute positively, but their effect is smaller compared to Marketing and Technology.  \n",
    "- **Operations** are necessary for running the business but provide the least direct profit impact.  \n",
    "\n",
    "👉 With a fixed budget (like ₹10L or ₹15L), the model suggests allocating **more funds to Marketing and Technology** to maximize profit, while keeping Offers and Operations at a supporting level.\n"
   ]
  },
  {
   "cell_type": "code",
   "execution_count": 101,
   "id": "cdab851b-6530-44d5-8dda-bb216af46fc9",
   "metadata": {},
   "outputs": [
    {
     "data": {
      "image/png": "[encoded data removed]",
      "text/plain": [
       "<Figure size 500x400 with 1 Axes>"
      ]
     },
     "metadata": {},
     "output_type": "display_data"
    }
   ],
   "source": [
    "# Fixed baseline allocations (in lakhs)\n",
    "base_allocation = {\"Marketing\": 4, \"Technology\": 3, \"CustomerOffers\": 2, \"Operations\": 1}\n",
    "\n",
    "# Function to calculate profit\n",
    "def calc_profit(marketing, tech, offers, ops):\n",
    "    return 9.54 + 2.50689884*marketing + 1.91449834*tech + 1.13827509*offers + 0.96035177*ops\n",
    "\n",
    "# Generate data: vary one factor at a time (0–10 lakhs), keep others fixed\n",
    "x = np.arange(0, 11, 1)\n",
    "\n",
    "profits_marketing = [calc_profit(m, base_allocation[\"Technology\"], base_allocation[\"CustomerOffers\"], base_allocation[\"Operations\"]) for m in x]\n",
    "profits_tech = [calc_profit(base_allocation[\"Marketing\"], t, base_allocation[\"CustomerOffers\"], base_allocation[\"Operations\"]) for t in x]\n",
    "profits_offers = [calc_profit(base_allocation[\"Marketing\"], base_allocation[\"Technology\"], c, base_allocation[\"Operations\"]) for c in x]\n",
    "profits_ops = [calc_profit(base_allocation[\"Marketing\"], base_allocation[\"Technology\"], base_allocation[\"CustomerOffers\"], o) for o in x]\n",
    "\n",
    "# Plot\n",
    "plt.figure(figsize=(5,4))\n",
    "plt.plot(x, profits_marketing, label=\"Marketing\")\n",
    "plt.plot(x, profits_tech, label=\"Technology\")\n",
    "plt.plot(x, profits_offers, label=\"Customer Offers\")\n",
    "plt.plot(x, profits_ops, label=\"Operations\")\n",
    "\n",
    "plt.xlabel(\"Investment (Lakhs)\")\n",
    "plt.ylabel(\"Predicted Profit (Lakhs)\")\n",
    "plt.title(\"Profit Impact of Different Investment Areas (MLR Model)\")\n",
    "plt.legend()\n",
    "plt.grid(True)\n",
    "plt.show()"
   ]
  },
  {
   "cell_type": "markdown",
   "id": "14254ec6-0084-42e7-9346-f0e425cbf7c9",
   "metadata": {},
   "source": [
    "## Here’s a visualization 📊 of how Profit changes as you invest more (0–10L) in each area, while keeping the other areas fixed:\n",
    "- Marketing (blue line): Steepest growth → highest ROI.\n",
    "- Technology (orange line): Strong positive growth, second best ROI.\n",
    "- Customer Offers (green line): Positive but slower growth.\n",
    "- Operations (red line): Lowest slope → least ROI."
   ]
  },
  {
   "cell_type": "markdown",
   "id": "38236602-7eaf-4205-a79f-448984c7599a",
   "metadata": {},
   "source": [
    "# Example predictions"
   ]
  },
  {
   "cell_type": "code",
   "execution_count": 102,
   "id": "344a7877-239c-46ba-a070-5be1d62f61a8",
   "metadata": {},
   "outputs": [
    {
     "name": "stdout",
     "output_type": "stream",
     "text": [
      "If we investing more on marketing we will get profit in Lakhs: 31.46316315\n"
     ]
    }
   ],
   "source": [
    "# case-1 Focus on Marketing\n",
    "# marketing = 6L, Tech = 3l ,offers = 1 ops = 0\n",
    "Profit = 9.54 + 2.50689884 * 6 + 1.91449834 * 3 + 1.13827509 * 1 + 0.96035177 * 0\n",
    "print('If we investing more on marketing we will get profit in Lakhs:',Profit)"
   ]
  },
  {
   "cell_type": "code",
   "execution_count": null,
   "id": "d8aad508-2287-44d1-869d-7eff06703810",
   "metadata": {},
   "outputs": [],
   "source": [
    "9.54 + 2.50689884*marketing + 1.91449834*tech + 1.13827509*offers + 0.96035177*ops"
   ]
  },
  {
   "cell_type": "code",
   "execution_count": 103,
   "id": "cbce19bc-3454-44bd-92d2-f0c022a42a07",
   "metadata": {},
   "outputs": [
    {
     "name": "stdout",
     "output_type": "stream",
     "text": [
      "If we investing more on marketing we will get profit in Lakhs: 27.001445120000003\n"
     ]
    }
   ],
   "source": [
    "# case-2 balanced approach \n",
    "# marketing = 3L, Tech = 3l ,offers = 2l ops = 2l\n",
    "Profit = 9.54 + 2.50689884 * 3 + 1.91449834 * 3 + 1.13827509 * 2 + 0.9603517 * 2\n",
    "print('If we investing more on marketing we will get profit in Lakhs:',Profit)"
   ]
  },
  {
   "cell_type": "markdown",
   "id": "65930db5-8364-4bbc-a8bb-3f84a92e6666",
   "metadata": {},
   "source": [
    "# Profit Prediction function using MLR Equation"
   ]
  },
  {
   "cell_type": "code",
   "execution_count": 104,
   "id": "77b4c0f9-466b-4e82-844d-a1affbc874a6",
   "metadata": {},
   "outputs": [],
   "source": [
    "def predict_profit(marketing,technology,customeroffers,operations):\n",
    "    intercept = 9.54\n",
    "    coef_Marketing = 2.50689884 \n",
    "    coef_Technology = 1.91449834\n",
    "    coef_CustomerOffers = 1.13827509\n",
    "    coef_Operations =  0.9603517\n",
    "\n",
    "    profit = (intercept \n",
    "              + coef_Marketing * marketing\n",
    "              + coef_Technology * technology\n",
    "              + coef_CustomerOffers * customeroffers\n",
    "              + coef_Operations * operations\n",
    "             )\n",
    "    return round(profit,2)"
   ]
  },
  {
   "cell_type": "code",
   "execution_count": 105,
   "id": "fa98deca-7399-42c9-ba0b-ad37c071cf9b",
   "metadata": {},
   "outputs": [
    {
     "data": {
      "text/plain": [
       "31.46"
      ]
     },
     "execution_count": 105,
     "metadata": {},
     "output_type": "execute_result"
    }
   ],
   "source": [
    "## marketing = 6L, Tech = 3l ,offers = 1 ops = 0\n",
    "predict_profit(6,3,1,0)"
   ]
  },
  {
   "cell_type": "code",
   "execution_count": 106,
   "id": "48ae766e-afb9-4876-80c1-ede9d5e3d831",
   "metadata": {},
   "outputs": [
    {
     "data": {
      "text/plain": [
       "19.52"
      ]
     },
     "execution_count": 106,
     "metadata": {},
     "output_type": "execute_result"
    }
   ],
   "source": [
    "# I have 5L to invest in different things\n",
    "## marketing = 2L, Tech = 2l ,offers = 1 ops = 0\n",
    "predict_profit(2,2,1,0)"
   ]
  },
  {
   "cell_type": "markdown",
   "id": "2aa85d45-e0f2-4f04-abd6-1e8da1d13b1c",
   "metadata": {},
   "source": [
    "# Methods to remove Unwanted Features "
   ]
  },
  {
   "cell_type": "code",
   "execution_count": 107,
   "id": "00e43456-0c16-480d-a3b0-f6b41c911a86",
   "metadata": {},
   "outputs": [],
   "source": [
    "X = df[['marketing', 'technology', 'customeroffers', 'operations']]\n",
    "y = df['profit']"
   ]
  },
  {
   "cell_type": "code",
   "execution_count": 108,
   "id": "41f96900-ce40-4ca8-a4a5-d525f1311f30",
   "metadata": {},
   "outputs": [
    {
     "name": "stdout",
     "output_type": "stream",
     "text": [
      "                            OLS Regression Results                            \n",
      "==============================================================================\n",
      "Dep. Variable:                 profit   R-squared:                       0.737\n",
      "Model:                            OLS   Adj. R-squared:                  0.736\n",
      "Method:                 Least Squares   F-statistic:                     696.8\n",
      "Date:                Thu, 25 Sep 2025   Prob (F-statistic):          1.11e-286\n",
      "Time:                        13:47:15   Log-Likelihood:                -2102.7\n",
      "No. Observations:                1000   AIC:                             4215.\n",
      "Df Residuals:                     995   BIC:                             4240.\n",
      "Df Model:                           4                                         \n",
      "Covariance Type:            nonrobust                                         \n",
      "==================================================================================\n",
      "                     coef    std err          t      P>|t|      [0.025      0.975]\n",
      "----------------------------------------------------------------------------------\n",
      "const              9.5527      0.301     31.708      0.000       8.961      10.144\n",
      "marketing          2.5100      0.057     44.169      0.000       2.398       2.622\n",
      "technology         1.8716      0.076     24.549      0.000       1.722       2.021\n",
      "customeroffers     1.2039      0.077     15.664      0.000       1.053       1.355\n",
      "operations         0.9444      0.126      7.515      0.000       0.698       1.191\n",
      "==============================================================================\n",
      "Omnibus:                        0.315   Durbin-Watson:                   2.016\n",
      "Prob(Omnibus):                  0.854   Jarque-Bera (JB):                0.322\n",
      "Skew:                           0.043   Prob(JB):                        0.851\n",
      "Kurtosis:                       2.983   Cond. No.                         19.7\n",
      "==============================================================================\n",
      "\n",
      "Notes:\n",
      "[1] Standard Errors assume that the covariance matrix of the errors is correctly specified.\n"
     ]
    }
   ],
   "source": [
    "X = sm.add_constant(X)\n",
    "model = sm.OLS(y,X).fit()\n",
    "print(model.summary())"
   ]
  },
  {
   "cell_type": "markdown",
   "id": "df652a80-6e59-43b6-8aee-df499aa52cdf",
   "metadata": {},
   "source": [
    "### Multiple Linear Regression Interpretation\n",
    "\n",
    "The Multiple Linear Regression (MLR) model was fitted to predict **profit** using the features **marketing, technology, customer offers, and operations**.\n",
    "\n",
    "- The **p-values (`P > |t|`) for all features are 0**, indicating that **all independent variables are statistically significant** at any conventional significance level (e.g., 0.05).  \n",
    "- This implies that **each feature contributes meaningfully** to explaining the variation in profit.  \n",
    "- The model’s **coefficients** represent the expected change in profit for a one-unit increase in the corresponding feature, keeping other variables constant.  \n",
    "- Metrics like **R-squared** and **Adjusted R-squared** indicate how well the model explains the variation in profit.\n",
    "\n",
    "**Conclusion:** All selected features are important predictors of profit according to this MLR model.\n"
   ]
  },
  {
   "cell_type": "code",
   "execution_count": null,
   "id": "a295bd0c-85b2-4c10-8e60-b01aafec11e2",
   "metadata": {},
   "outputs": [],
   "source": []
  }
 ],
 "metadata": {
  "kernelspec": {
   "display_name": "Python 3 (ipykernel)",
   "language": "python",
   "name": "python3"
  },
  "language_info": {
   "codemirror_mode": {
    "name": "ipython",
    "version": 3
   },
   "file_extension": ".py",
   "mimetype": "text/x-python",
   "name": "python",
   "nbconvert_exporter": "python",
   "pygments_lexer": "ipython3",
   "version": "3.13.5"
  }
 },
 "nbformat": 4,
 "nbformat_minor": 5
}
